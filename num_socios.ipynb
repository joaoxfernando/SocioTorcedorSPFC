{
 "cells": [
  {
   "cell_type": "code",
   "execution_count": 1,
   "metadata": {},
   "outputs": [],
   "source": [
    "from selenium import webdriver\n",
    "from selenium.webdriver.common.keys import Keys\n",
    "from selenium.webdriver.common.by import By\n",
    "import time\n",
    "import datetime\n",
    "import pandas as pd"
   ]
  },
  {
   "cell_type": "code",
   "execution_count": 2,
   "metadata": {},
   "outputs": [],
   "source": [
    "url = 'https://sociotorcedor.com.br/'\n",
    "\n",
    "options = options = webdriver.FirefoxOptions()\n",
    "options.add_argument('--headless')\n",
    "\n",
    "xpath = '/html/body/app-root/div/fengstlayout-header/header/section/div/span[2]'\n",
    "\n",
    "driver = webdriver.Firefox(options=options)\n",
    "\n",
    "driver.get(url)\n",
    "\n",
    "time.sleep(10)\n",
    "\n",
    "# pegando os dados para alimentar a nossa base de dados\n",
    "data = datetime.datetime.strptime(str(datetime.date.today()), '%Y-%m-%d').date()\n",
    "data = data.strftime('%Y-%m-%d')\n",
    "hoje = data\n",
    "\n",
    "# pegando a quantidade de sócios na pagina inicial  e adicionando os dados da data e qtde de sócios em um array\n",
    "qtde_st = driver.find_elements(By.XPATH, xpath)[0].text\n",
    "dados = [data,qtde_st.replace('.','')]\n",
    "\n",
    "driver.quit()"
   ]
  },
  {
   "cell_type": "code",
   "execution_count": 3,
   "metadata": {},
   "outputs": [],
   "source": [
    "# carregando a base de dados\n",
    "df = pd.read_excel('socios.xlsx')\n",
    "\n",
    "# criando um segundo dataframe com os dados da data atual\n",
    "df2 = pd.DataFrame({'Data':[dados[0]],'Quantidade Sócios': [dados[1]]})\n",
    "df2['Quantidade Sócios'] = df2['Quantidade Sócios'].astype(int)\n",
    "# unindo os dois dataframes se a data atual for diferente da ultima data do dataframe\n",
    "ult_data = df['Data'].iloc[-1]\n",
    "ult_data = ult_data.strftime('%Y-%m-%d')\n",
    "\n",
    "if ult_data != hoje:\n",
    "\n",
    "    df = pd.concat([df,df2])\n",
    "    df['Data'] = pd.to_datetime(df['Data'])\n",
    "\n",
    "    # salvando o novo dataframe com os dados atualizados.\n",
    "\n",
    "    df.to_excel('socios.xlsx',index=False)\n",
    "else:\n",
    "    print('Você já atualizou a base de dados hoje! Tente novamente amanha.')"
   ]
  },
  {
   "cell_type": "code",
   "execution_count": 40,
   "metadata": {},
   "outputs": [
    {
     "name": "stdout",
     "output_type": "stream",
     "text": [
      "O número de sócios torcedores cresceu 4.91% (1997 torcedores) desde o começo da análise.\n",
      "Estamos analisando desde o dia 27/07/23 e a última atualização foi no dia 29/07/23, totalizando 3 dias de análise.\n"
     ]
    }
   ],
   "source": [
    "df_var = df\n",
    "\n",
    "df_var['Crescimento #'] = df['Quantidade Sócios'] - df['Quantidade Sócios'].shift(1)\n",
    "df_var['Crescimento %'] = df['Quantidade Sócios']/df['Quantidade Sócios'].shift(1) - 1\n",
    "df_var.fillna(0,inplace=True)\n",
    "df_var.head()\n",
    "\n",
    "variacao_rel = df_var['Quantidade Sócios'].iloc[-1] / df_var['Quantidade Sócios'].iloc[0] -1\n",
    "variacao_abs = df_var['Quantidade Sócios'].iloc[-1] - df_var['Quantidade Sócios'].iloc[0]\n",
    "\n",
    "prim_data = df_var['Data'].iloc[0]\n",
    "ult_data = df_var['Data'].iloc[-1]\n",
    "dias = abs((ult_data - prim_data).days) +1\n",
    "dias_alt = df_var['Data'].count()\n",
    "\n",
    "prim_data = prim_data.strftime('%d/%m/%y')\n",
    "ult_data = ult_data.strftime('%d/%m/%y')\n",
    "\n",
    "#msg = ''\n",
    "if variacao_abs > 0:\n",
    "    msg_1 = 'O número de sócios torcedores cresceu '\n",
    "else:\n",
    "    msg_1 = 'O número de sócios torcedores caiu em '\n",
    "msg_2 = 'desde o começo da análise'\n",
    "\n",
    "\n",
    "print(f'{msg_1}{variacao_rel:.2%} ({variacao_abs} torcedores) {msg_2}.')\n",
    "print(f'Estamos analisando desde o dia {prim_data} e a última atualização foi no dia {ult_data}, totalizando {dias} dias de análise.')\n",
    "#df_var.to_excel('Variacao.xlsx',index=False)"
   ]
  },
  {
   "cell_type": "code",
   "execution_count": null,
   "metadata": {},
   "outputs": [],
   "source": []
  }
 ],
 "metadata": {
  "kernelspec": {
   "display_name": "base",
   "language": "python",
   "name": "python3"
  },
  "language_info": {
   "codemirror_mode": {
    "name": "ipython",
    "version": 3
   },
   "file_extension": ".py",
   "mimetype": "text/x-python",
   "name": "python",
   "nbconvert_exporter": "python",
   "pygments_lexer": "ipython3",
   "version": "3.10.9"
  },
  "orig_nbformat": 4
 },
 "nbformat": 4,
 "nbformat_minor": 2
}
